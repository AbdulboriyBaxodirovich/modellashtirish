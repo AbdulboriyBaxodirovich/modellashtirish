{
 "cells": [
  {
   "cell_type": "code",
   "execution_count": 1,
   "metadata": {},
   "outputs": [],
   "source": [
    "import numpy as np\n",
    "import pandas as pd\n",
    "from sklearn.datasets import fetch_california_housing\n",
    "from sklearn.linear_model import *\n",
    "from sklearn.model_selection import cross_val_score, KFold, train_test_split\n",
    "from sklearn.metrics import mean_squared_error, mean_absolute_error, r2_score, median_absolute_error, mean_absolute_percentage_error\n",
    "from sklearn.preprocessing import OrdinalEncoder\n",
    "from sklearn.pipeline import Pipeline\n",
    "from sklearn.model_selection import GridSearchCV, train_test_split, RandomizedSearchCV\n",
    "from sklearn.preprocessing import PolynomialFeatures\n",
    "from sklearn.feature_selection import RFE, RFECV\n",
    "import warnings\n",
    "import re\n",
    "import seaborn as sns\n",
    "import plotly.express as px\n",
    "import matplotlib.pyplot as plt\n",
    "warnings.filterwarnings('ignore')\n",
    "from sklearn.preprocessing import LabelEncoder\n",
    "from sklearn.preprocessing import StandardScaler, MinMaxScaler, MaxAbsScaler\n",
    "from sklearn.ensemble import VotingRegressor\n",
    "from sklearn.ensemble import StackingRegressor\n"
   ]
  },
  {
   "cell_type": "code",
   "execution_count": 2,
   "metadata": {},
   "outputs": [
    {
     "data": {
      "text/html": [
       "<div>\n",
       "<style scoped>\n",
       "    .dataframe tbody tr th:only-of-type {\n",
       "        vertical-align: middle;\n",
       "    }\n",
       "\n",
       "    .dataframe tbody tr th {\n",
       "        vertical-align: top;\n",
       "    }\n",
       "\n",
       "    .dataframe thead th {\n",
       "        text-align: right;\n",
       "    }\n",
       "</style>\n",
       "<table border=\"1\" class=\"dataframe\">\n",
       "  <thead>\n",
       "    <tr style=\"text-align: right;\">\n",
       "      <th></th>\n",
       "      <th>id</th>\n",
       "      <th>Sex</th>\n",
       "      <th>Length</th>\n",
       "      <th>Diameter</th>\n",
       "      <th>Height</th>\n",
       "      <th>Weight</th>\n",
       "      <th>Shucked Weight</th>\n",
       "      <th>Viscera Weight</th>\n",
       "      <th>Shell Weight</th>\n",
       "      <th>Age</th>\n",
       "    </tr>\n",
       "  </thead>\n",
       "  <tbody>\n",
       "    <tr>\n",
       "      <th>0</th>\n",
       "      <td>0</td>\n",
       "      <td>I</td>\n",
       "      <td>0.5500</td>\n",
       "      <td>0.4125</td>\n",
       "      <td>0.1625</td>\n",
       "      <td>1.715145</td>\n",
       "      <td>0.609514</td>\n",
       "      <td>0.396893</td>\n",
       "      <td>0.566990</td>\n",
       "      <td>4.0</td>\n",
       "    </tr>\n",
       "    <tr>\n",
       "      <th>1</th>\n",
       "      <td>1</td>\n",
       "      <td>F</td>\n",
       "      <td>1.5125</td>\n",
       "      <td>1.2125</td>\n",
       "      <td>0.4000</td>\n",
       "      <td>31.312023</td>\n",
       "      <td>13.395139</td>\n",
       "      <td>6.265239</td>\n",
       "      <td>8.930093</td>\n",
       "      <td>10.0</td>\n",
       "    </tr>\n",
       "    <tr>\n",
       "      <th>2</th>\n",
       "      <td>2</td>\n",
       "      <td>F</td>\n",
       "      <td>1.5125</td>\n",
       "      <td>1.1750</td>\n",
       "      <td>0.4125</td>\n",
       "      <td>31.552993</td>\n",
       "      <td>14.670866</td>\n",
       "      <td>6.279414</td>\n",
       "      <td>9.922325</td>\n",
       "      <td>11.0</td>\n",
       "    </tr>\n",
       "    <tr>\n",
       "      <th>3</th>\n",
       "      <td>3</td>\n",
       "      <td>I</td>\n",
       "      <td>0.8000</td>\n",
       "      <td>0.6000</td>\n",
       "      <td>0.2000</td>\n",
       "      <td>4.620969</td>\n",
       "      <td>3.019222</td>\n",
       "      <td>0.978058</td>\n",
       "      <td>1.417475</td>\n",
       "      <td>7.0</td>\n",
       "    </tr>\n",
       "    <tr>\n",
       "      <th>4</th>\n",
       "      <td>4</td>\n",
       "      <td>I</td>\n",
       "      <td>1.3875</td>\n",
       "      <td>1.0875</td>\n",
       "      <td>0.3625</td>\n",
       "      <td>24.323871</td>\n",
       "      <td>11.651644</td>\n",
       "      <td>5.712424</td>\n",
       "      <td>5.386405</td>\n",
       "      <td>8.0</td>\n",
       "    </tr>\n",
       "  </tbody>\n",
       "</table>\n",
       "</div>"
      ],
      "text/plain": [
       "   id Sex  Length  Diameter  Height     Weight  Shucked Weight  \\\n",
       "0   0   I  0.5500    0.4125  0.1625   1.715145        0.609514   \n",
       "1   1   F  1.5125    1.2125  0.4000  31.312023       13.395139   \n",
       "2   2   F  1.5125    1.1750  0.4125  31.552993       14.670866   \n",
       "3   3   I  0.8000    0.6000  0.2000   4.620969        3.019222   \n",
       "4   4   I  1.3875    1.0875  0.3625  24.323871       11.651644   \n",
       "\n",
       "   Viscera Weight  Shell Weight   Age  \n",
       "0        0.396893      0.566990   4.0  \n",
       "1        6.265239      8.930093  10.0  \n",
       "2        6.279414      9.922325  11.0  \n",
       "3        0.978058      1.417475   7.0  \n",
       "4        5.712424      5.386405   8.0  "
      ]
     },
     "execution_count": 2,
     "metadata": {},
     "output_type": "execute_result"
    }
   ],
   "source": [
    "df = pd.read_csv('train.csv')\n",
    "df.head()"
   ]
  },
  {
   "cell_type": "code",
   "execution_count": 3,
   "metadata": {},
   "outputs": [
    {
     "data": {
      "text/plain": [
       "Sex\n",
       "M           5387\n",
       "I           5050\n",
       "F           4562\n",
       "Diameter       1\n",
       "Name: count, dtype: int64"
      ]
     },
     "execution_count": 3,
     "metadata": {},
     "output_type": "execute_result"
    }
   ],
   "source": [
    "df['Sex'].value_counts()"
   ]
  },
  {
   "cell_type": "code",
   "execution_count": 4,
   "metadata": {},
   "outputs": [
    {
     "data": {
      "text/html": [
       "<div>\n",
       "<style scoped>\n",
       "    .dataframe tbody tr th:only-of-type {\n",
       "        vertical-align: middle;\n",
       "    }\n",
       "\n",
       "    .dataframe tbody tr th {\n",
       "        vertical-align: top;\n",
       "    }\n",
       "\n",
       "    .dataframe thead th {\n",
       "        text-align: right;\n",
       "    }\n",
       "</style>\n",
       "<table border=\"1\" class=\"dataframe\">\n",
       "  <thead>\n",
       "    <tr style=\"text-align: right;\">\n",
       "      <th></th>\n",
       "      <th>id</th>\n",
       "      <th>Sex</th>\n",
       "      <th>Length</th>\n",
       "      <th>Diameter</th>\n",
       "      <th>Height</th>\n",
       "      <th>Weight</th>\n",
       "      <th>Shucked Weight</th>\n",
       "      <th>Viscera Weight</th>\n",
       "      <th>Shell Weight</th>\n",
       "    </tr>\n",
       "  </thead>\n",
       "  <tbody>\n",
       "    <tr>\n",
       "      <th>0</th>\n",
       "      <td>15000</td>\n",
       "      <td>I</td>\n",
       "      <td>0.8625</td>\n",
       "      <td>0.6500</td>\n",
       "      <td>0.2250</td>\n",
       "      <td>5.854172</td>\n",
       "      <td>2.721552</td>\n",
       "      <td>1.048931</td>\n",
       "      <td>1.743494</td>\n",
       "    </tr>\n",
       "    <tr>\n",
       "      <th>1</th>\n",
       "      <td>15001</td>\n",
       "      <td>F</td>\n",
       "      <td>1.2875</td>\n",
       "      <td>1.0000</td>\n",
       "      <td>0.3250</td>\n",
       "      <td>20.326591</td>\n",
       "      <td>9.412034</td>\n",
       "      <td>4.578444</td>\n",
       "      <td>5.244657</td>\n",
       "    </tr>\n",
       "    <tr>\n",
       "      <th>2</th>\n",
       "      <td>15002</td>\n",
       "      <td>I</td>\n",
       "      <td>0.7000</td>\n",
       "      <td>0.5250</td>\n",
       "      <td>0.1500</td>\n",
       "      <td>2.820775</td>\n",
       "      <td>1.091456</td>\n",
       "      <td>0.666213</td>\n",
       "      <td>0.850485</td>\n",
       "    </tr>\n",
       "    <tr>\n",
       "      <th>3</th>\n",
       "      <td>15003</td>\n",
       "      <td>F</td>\n",
       "      <td>1.2625</td>\n",
       "      <td>0.9625</td>\n",
       "      <td>0.3375</td>\n",
       "      <td>18.710670</td>\n",
       "      <td>9.908150</td>\n",
       "      <td>4.521745</td>\n",
       "      <td>4.677668</td>\n",
       "    </tr>\n",
       "    <tr>\n",
       "      <th>4</th>\n",
       "      <td>15004</td>\n",
       "      <td>I</td>\n",
       "      <td>0.9125</td>\n",
       "      <td>0.6625</td>\n",
       "      <td>0.2250</td>\n",
       "      <td>5.060386</td>\n",
       "      <td>2.197086</td>\n",
       "      <td>1.176504</td>\n",
       "      <td>1.700970</td>\n",
       "    </tr>\n",
       "    <tr>\n",
       "      <th>...</th>\n",
       "      <td>...</td>\n",
       "      <td>...</td>\n",
       "      <td>...</td>\n",
       "      <td>...</td>\n",
       "      <td>...</td>\n",
       "      <td>...</td>\n",
       "      <td>...</td>\n",
       "      <td>...</td>\n",
       "      <td>...</td>\n",
       "    </tr>\n",
       "    <tr>\n",
       "      <th>9995</th>\n",
       "      <td>24995</td>\n",
       "      <td>I</td>\n",
       "      <td>1.3000</td>\n",
       "      <td>1.0000</td>\n",
       "      <td>0.3125</td>\n",
       "      <td>18.710670</td>\n",
       "      <td>8.348928</td>\n",
       "      <td>3.713785</td>\n",
       "      <td>5.386405</td>\n",
       "    </tr>\n",
       "    <tr>\n",
       "      <th>9996</th>\n",
       "      <td>24996</td>\n",
       "      <td>I</td>\n",
       "      <td>1.2500</td>\n",
       "      <td>0.9375</td>\n",
       "      <td>0.2750</td>\n",
       "      <td>14.755915</td>\n",
       "      <td>6.520385</td>\n",
       "      <td>2.849125</td>\n",
       "      <td>4.195726</td>\n",
       "    </tr>\n",
       "    <tr>\n",
       "      <th>9997</th>\n",
       "      <td>24997</td>\n",
       "      <td>M</td>\n",
       "      <td>1.5125</td>\n",
       "      <td>1.2625</td>\n",
       "      <td>0.4375</td>\n",
       "      <td>40.837455</td>\n",
       "      <td>18.866592</td>\n",
       "      <td>10.531839</td>\n",
       "      <td>9.780577</td>\n",
       "    </tr>\n",
       "    <tr>\n",
       "      <th>9998</th>\n",
       "      <td>24998</td>\n",
       "      <td>M</td>\n",
       "      <td>1.4500</td>\n",
       "      <td>1.0625</td>\n",
       "      <td>0.3375</td>\n",
       "      <td>28.689694</td>\n",
       "      <td>14.231449</td>\n",
       "      <td>5.570677</td>\n",
       "      <td>7.087375</td>\n",
       "    </tr>\n",
       "    <tr>\n",
       "      <th>9999</th>\n",
       "      <td>24999</td>\n",
       "      <td>I</td>\n",
       "      <td>1.1750</td>\n",
       "      <td>0.8375</td>\n",
       "      <td>0.2875</td>\n",
       "      <td>12.516304</td>\n",
       "      <td>5.287182</td>\n",
       "      <td>2.579804</td>\n",
       "      <td>3.260193</td>\n",
       "    </tr>\n",
       "  </tbody>\n",
       "</table>\n",
       "<p>10000 rows × 9 columns</p>\n",
       "</div>"
      ],
      "text/plain": [
       "         id Sex  Length  Diameter  Height     Weight  Shucked Weight  \\\n",
       "0     15000   I  0.8625    0.6500  0.2250   5.854172        2.721552   \n",
       "1     15001   F  1.2875    1.0000  0.3250  20.326591        9.412034   \n",
       "2     15002   I  0.7000    0.5250  0.1500   2.820775        1.091456   \n",
       "3     15003   F  1.2625    0.9625  0.3375  18.710670        9.908150   \n",
       "4     15004   I  0.9125    0.6625  0.2250   5.060386        2.197086   \n",
       "...     ...  ..     ...       ...     ...        ...             ...   \n",
       "9995  24995   I  1.3000    1.0000  0.3125  18.710670        8.348928   \n",
       "9996  24996   I  1.2500    0.9375  0.2750  14.755915        6.520385   \n",
       "9997  24997   M  1.5125    1.2625  0.4375  40.837455       18.866592   \n",
       "9998  24998   M  1.4500    1.0625  0.3375  28.689694       14.231449   \n",
       "9999  24999   I  1.1750    0.8375  0.2875  12.516304        5.287182   \n",
       "\n",
       "      Viscera Weight  Shell Weight  \n",
       "0           1.048931      1.743494  \n",
       "1           4.578444      5.244657  \n",
       "2           0.666213      0.850485  \n",
       "3           4.521745      4.677668  \n",
       "4           1.176504      1.700970  \n",
       "...              ...           ...  \n",
       "9995        3.713785      5.386405  \n",
       "9996        2.849125      4.195726  \n",
       "9997       10.531839      9.780577  \n",
       "9998        5.570677      7.087375  \n",
       "9999        2.579804      3.260193  \n",
       "\n",
       "[10000 rows x 9 columns]"
      ]
     },
     "execution_count": 4,
     "metadata": {},
     "output_type": "execute_result"
    }
   ],
   "source": [
    "df_test = pd.read_csv('test.csv')\n",
    "df_test"
   ]
  },
  {
   "cell_type": "code",
   "execution_count": 5,
   "metadata": {},
   "outputs": [
    {
     "data": {
      "text/plain": [
       "count    15000.000000\n",
       "mean         9.929533\n",
       "std          3.206668\n",
       "min          1.000000\n",
       "25%          8.000000\n",
       "50%          9.000000\n",
       "75%         11.000000\n",
       "max         29.000000\n",
       "Name: Age, dtype: float64"
      ]
     },
     "execution_count": 5,
     "metadata": {},
     "output_type": "execute_result"
    }
   ],
   "source": [
    "df['Age'].describe()"
   ]
  },
  {
   "cell_type": "code",
   "execution_count": 6,
   "metadata": {},
   "outputs": [],
   "source": [
    "label_encoder = LabelEncoder()\n",
    "\n",
    "df['Sex_num'] = label_encoder.fit_transform(df['Sex'])\n",
    "df_test['Sex_num'] = label_encoder.fit_transform(df_test['Sex'])"
   ]
  },
  {
   "cell_type": "code",
   "execution_count": 7,
   "metadata": {},
   "outputs": [
    {
     "data": {
      "text/plain": [
       "np.float64(9.935198086255618)"
      ]
     },
     "execution_count": 7,
     "metadata": {},
     "output_type": "execute_result"
    }
   ],
   "source": [
    "col = ['Length', 'Diameter', 'Height', 'Weight', 'Shucked Weight', 'Viscera Weight', 'Shell Weight', 'Sex_num']\n",
    "X = df[col]\n",
    "y = df['Age']\n",
    "\n",
    "liner_model = LinearRegression()\n",
    "liner_model.fit(X, y)\n",
    "\n",
    "X_test = df_test[col]\n",
    "y_pred_liner = liner_model.predict(X_test)\n",
    "y_pred_liner.mean()"
   ]
  },
  {
   "cell_type": "code",
   "execution_count": 8,
   "metadata": {},
   "outputs": [
    {
     "name": "stdout",
     "output_type": "stream",
     "text": [
      "Kross-validatsiya MAE (5-fold): [1.38984797 1.44938118 1.43860303 1.41284078 1.44495207]\n",
      "O'rtacha MAE: 1.4271250075410908\n"
     ]
    },
    {
     "data": {
      "text/plain": [
       "np.float64(9.89853998588371)"
      ]
     },
     "execution_count": 8,
     "metadata": {},
     "output_type": "execute_result"
    }
   ],
   "source": [
    "col = ['Length', 'Diameter', 'Height', 'Weight', 'Shucked Weight', 'Viscera Weight', 'Shell Weight']\n",
    "X = df[col]\n",
    "y = df['Age']\n",
    "\n",
    "# Model yaratish\n",
    "linear_model = LinearRegression()\n",
    "\n",
    "# Kross-validatsiyani bajarish (5-fold)\n",
    "cv = KFold(n_splits=5, shuffle=True, random_state=42)\n",
    "cv_scores = cross_val_score(linear_model, X, y, cv=cv, scoring='neg_mean_absolute_error')\n",
    "\n",
    "# Natijalarni ko'rsatish\n",
    "print(f\"Kross-validatsiya MAE (5-fold): {np.abs(cv_scores)}\")\n",
    "print(f\"O'rtacha MAE: {np.abs(cv_scores).mean()}\")\n",
    "\n",
    "# Modelni o'qitish va test ma'lumotlar to'plamida bashorat qilish\n",
    "linear_model.fit(X, y)\n",
    "\n",
    "X_test = df_test[col]\n",
    "y_pred = linear_model.predict(X_test)\n",
    "y_pred.mean()"
   ]
  },
  {
   "cell_type": "markdown",
   "metadata": {},
   "source": [
    "## Ridge"
   ]
  },
  {
   "cell_type": "code",
   "execution_count": 9,
   "metadata": {},
   "outputs": [
    {
     "data": {
      "text/plain": [
       "np.float64(9.898577502796545)"
      ]
     },
     "execution_count": 9,
     "metadata": {},
     "output_type": "execute_result"
    }
   ],
   "source": [
    "ridge_model = Ridge(alpha=1.0)\n",
    "ridge_model.fit(X, y)\n",
    "\n",
    "y_pred_ridge = ridge_model.predict(X_test)\n",
    "y_pred_ridge.mean()"
   ]
  },
  {
   "cell_type": "markdown",
   "metadata": {},
   "source": [
    "## Lasso"
   ]
  },
  {
   "cell_type": "code",
   "execution_count": 10,
   "metadata": {},
   "outputs": [
    {
     "data": {
      "text/plain": [
       "np.float64(9.890903530440253)"
      ]
     },
     "execution_count": 10,
     "metadata": {},
     "output_type": "execute_result"
    }
   ],
   "source": [
    "lasso_model = Lasso(alpha=0.1)\n",
    "lasso_model.fit(X, y)\n",
    "\n",
    "y_pred_lasso = lasso_model.predict(X_test)\n",
    "y_pred_lasso.mean()\n"
   ]
  },
  {
   "cell_type": "markdown",
   "metadata": {},
   "source": [
    "## Huber"
   ]
  },
  {
   "cell_type": "code",
   "execution_count": 11,
   "metadata": {},
   "outputs": [
    {
     "data": {
      "text/plain": [
       "np.float64(9.576665517109022)"
      ]
     },
     "execution_count": 11,
     "metadata": {},
     "output_type": "execute_result"
    }
   ],
   "source": [
    "huber_model = HuberRegressor()\n",
    "huber_model.fit(X, y)\n",
    "\n",
    "y_pred_huber = huber_model.predict(X_test)\n",
    "y_pred_huber.mean()"
   ]
  },
  {
   "cell_type": "markdown",
   "metadata": {},
   "source": [
    "## Ransac"
   ]
  },
  {
   "cell_type": "code",
   "execution_count": 12,
   "metadata": {},
   "outputs": [
    {
     "data": {
      "text/plain": [
       "np.float64(9.660844409104048)"
      ]
     },
     "execution_count": 12,
     "metadata": {},
     "output_type": "execute_result"
    }
   ],
   "source": [
    "ransac_model = RANSACRegressor()\n",
    "\n",
    "ransac_model.fit(X, y)\n",
    "\n",
    "y_pred_ransac = ransac_model.predict(X_test)\n",
    "y_pred_ransac.mean()"
   ]
  },
  {
   "cell_type": "markdown",
   "metadata": {},
   "source": [
    "## Elastic"
   ]
  },
  {
   "cell_type": "code",
   "execution_count": 13,
   "metadata": {},
   "outputs": [
    {
     "data": {
      "text/plain": [
       "np.float64(9.889452684333687)"
      ]
     },
     "execution_count": 13,
     "metadata": {},
     "output_type": "execute_result"
    }
   ],
   "source": [
    "elastic_net_model = ElasticNet(alpha=1.0, l1_ratio=0.5)\n",
    "\n",
    "elastic_net_model.fit(X, y)\n",
    "\n",
    "y_pred_elastic_net = elastic_net_model.predict(X_test)\n",
    "y_pred_elastic_net.mean()"
   ]
  },
  {
   "cell_type": "markdown",
   "metadata": {},
   "source": [
    "## Ansambl"
   ]
  },
  {
   "cell_type": "code",
   "execution_count": 14,
   "metadata": {},
   "outputs": [
    {
     "data": {
      "text/plain": [
       "array([6.56723878, 8.5364959 , 5.48667222, ..., 9.80264395, 8.54309607,\n",
       "       8.06313902])"
      ]
     },
     "execution_count": 14,
     "metadata": {},
     "output_type": "execute_result"
    }
   ],
   "source": [
    "linear_pipeline = Pipeline([('liner_model', LinearRegression())])\n",
    "ridge_pipeline = Pipeline([('ridge_model', Ridge(alpha=1.0))])\n",
    "lasso_pipeline = Pipeline([('lasso_model', Lasso(alpha=0.1))])\n",
    "huber_pipeline = Pipeline([('huber_model', HuberRegressor())])\n",
    "ransac_pipeline = Pipeline([('ransacr_model', RANSACRegressor())])\n",
    "elastic_pipeline = Pipeline([('elastic_model', ElasticNet())])\n",
    "\n",
    "# Define the meta-model\n",
    "meta_model = HuberRegressor()\n",
    "\n",
    "# Create the stacking regressor\n",
    "stacking_regressor = StackingRegressor(\n",
    "    estimators=[\n",
    "        ('linear', linear_pipeline),\n",
    "        ('ridge', ridge_pipeline),\n",
    "        ('lasso', lasso_pipeline),\n",
    "        ('huber', huber_pipeline),\n",
    "        ('ransac', ransac_pipeline),\n",
    "        ('elastic', elastic_pipeline)\n",
    "    ],\n",
    "    final_estimator=meta_model,\n",
    "    cv=5\n",
    ")\n",
    "\n",
    "# Train the stacking model\n",
    "stacking_regressor.fit(X, y)\n",
    "\n",
    "y_pred_stec = stacking_regressor.predict(X_test)\n",
    "y_pred_stec.mean()\n",
    "y_pred_stec"
   ]
  },
  {
   "cell_type": "markdown",
   "metadata": {},
   "source": [
    "## Huber * Polinomial"
   ]
  },
  {
   "cell_type": "code",
   "execution_count": 15,
   "metadata": {},
   "outputs": [
    {
     "data": {
      "text/plain": [
       "np.float64(9.557784211864561)"
      ]
     },
     "execution_count": 15,
     "metadata": {},
     "output_type": "execute_result"
    }
   ],
   "source": [
    "poly_degree = 2  # Polinomial daraja\n",
    "polynomial_features = PolynomialFeatures(degree=poly_degree)\n",
    "huber_regressor = HuberRegressor()\n",
    "\n",
    "pipeline_huber = Pipeline([\n",
    "    (\"polynomial_features\", polynomial_features),\n",
    "    (\"huber_regressor\", huber_regressor)\n",
    "])\n",
    "\n",
    "# Modelni fit qilish\n",
    "pipeline_huber.fit(X, y)\n",
    "\n",
    "# Bashorat qilish\n",
    "y_pred_huberp = pipeline_huber.predict(X_test)\n",
    "y_pred_huberp.mean()"
   ]
  },
  {
   "cell_type": "code",
   "execution_count": 16,
   "metadata": {},
   "outputs": [],
   "source": [
    "from sklearn.ensemble import StackingRegressor\n",
    "\n",
    "# Define the pipelines\n",
    "linear_pipeline = Pipeline([\n",
    "    ('poly', PolynomialFeatures(degree=2)),\n",
    "    ('linear', LinearRegression())\n",
    "])\n",
    "\n",
    "ridge_pipeline = Pipeline([\n",
    "    ('poly', PolynomialFeatures(degree=2)),\n",
    "    ('linear', Ridge(alpha=1.0))\n",
    "])\n",
    "\n",
    "lasso_pipeline = Pipeline([\n",
    "    ('poly', PolynomialFeatures(degree=2)),\n",
    "    ('linear', Lasso())\n",
    "])\n",
    "\n",
    "huber_pipeline = Pipeline([\n",
    "    ('poly', PolynomialFeatures(degree=2)),\n",
    "    ('linear', HuberRegressor())\n",
    "])\n",
    "\n",
    "ransac_pipeline = Pipeline([\n",
    "    ('poly', PolynomialFeatures(degree=2)),\n",
    "    ('linear', RANSACRegressor())\n",
    "])\n",
    "\n",
    "elastic_pipeline = Pipeline([\n",
    "    ('poly', PolynomialFeatures(degree=2)),\n",
    "    ('elastic_net', ElasticNet())\n",
    "])\n",
    "\n",
    "# Stacking Regressor\n",
    "stacking_regressor = StackingRegressor(\n",
    "    estimators=[\n",
    "        ('linear', linear_pipeline),\n",
    "        ('lasso', lasso_pipeline),\n",
    "        ('huber', huber_pipeline),\n",
    "        ('ridge', ridge_pipeline),\n",
    "        ('elastic_net', elastic_pipeline)\n",
    "    ],\n",
    "    final_estimator=HuberRegressor(),  # Bu yerda final estimator berilishi kerak\n",
    "    cv=5\n",
    ")\n",
    "\n",
    "# Fit the stacking model\n",
    "stacking_regressor.fit(X, y)\n",
    "\n",
    "# Predict\n",
    "y_pred_stec_huber = stacking_regressor.predict(X_test).round()\n",
    "\n"
   ]
  },
  {
   "cell_type": "code",
   "execution_count": 17,
   "metadata": {},
   "outputs": [],
   "source": [
    "from sklearn.preprocessing import StandardScaler, PolynomialFeatures\n",
    "from sklearn.pipeline import Pipeline\n",
    "from sklearn.ensemble import StackingRegressor\n",
    "from sklearn.linear_model import LinearRegression, Ridge, Lasso, HuberRegressor, ElasticNet\n",
    "from sklearn.model_selection import train_test_split\n",
    "from sklearn.metrics import mean_absolute_error\n",
    "\n",
    "# Define the pipelines with StandardScaler added\n",
    "linear_pipeline = Pipeline([\n",
    "    ('scaler', StandardScaler()),  # Add scaler\n",
    "    ('poly', PolynomialFeatures(degree=2)),\n",
    "    ('linear', LinearRegression())\n",
    "])\n",
    "\n",
    "ridge_pipeline = Pipeline([\n",
    "    ('scaler', StandardScaler()),  # Add scaler\n",
    "    ('poly', PolynomialFeatures(degree=2)),\n",
    "    ('linear', Ridge(alpha=1.0))\n",
    "])\n",
    "\n",
    "lasso_pipeline = Pipeline([\n",
    "    ('scaler', StandardScaler()),  # Add scaler\n",
    "    ('poly', PolynomialFeatures(degree=2)),\n",
    "    ('linear', Lasso())\n",
    "])\n",
    "\n",
    "huber_pipeline = Pipeline([\n",
    "    ('scaler', StandardScaler()),  # Add scaler\n",
    "    ('poly', PolynomialFeatures(degree=2)),\n",
    "    ('linear', HuberRegressor())\n",
    "])\n",
    "\n",
    "ransac_pipeline = Pipeline([\n",
    "    ('scaler', StandardScaler()),  # Add scaler\n",
    "    ('poly', PolynomialFeatures(degree=2)),\n",
    "    ('linear', RANSACRegressor())\n",
    "])\n",
    "\n",
    "elastic_pipeline = Pipeline([\n",
    "    ('scaler', StandardScaler()),  # Add scaler\n",
    "    ('poly', PolynomialFeatures(degree=2)),\n",
    "    ('elastic_net', ElasticNet())\n",
    "])\n",
    "\n",
    "\n",
    "# Stacking Regressor\n",
    "stacking_regressor = StackingRegressor(\n",
    "    estimators=[\n",
    "        ('linear', linear_pipeline),\n",
    "        ('lasso', lasso_pipeline),\n",
    "        ('huber', huber_pipeline),\n",
    "        ('ridge', ridge_pipeline),\n",
    "        ('elastic_net', elastic_pipeline)\n",
    "    ],\n",
    "    final_estimator=HuberRegressor(),\n",
    "    cv=5\n",
    ")\n",
    "\n",
    "# Assuming X_train, y_train, X_test, y_test are defined\n",
    "\n",
    "# Fit the stacking model\n",
    "stacking_regressor.fit(X, y)\n",
    "\n",
    "# Predict\n",
    "y_pred_stec_huber1 = stacking_regressor.predict(X_test).round()\n"
   ]
  },
  {
   "cell_type": "code",
   "execution_count": 18,
   "metadata": {},
   "outputs": [
    {
     "name": "stdout",
     "output_type": "stream",
     "text": [
      "Mean Absolute Error: 1.246\n"
     ]
    }
   ],
   "source": [
    "import pandas as pd\n",
    "from sklearn.preprocessing import StandardScaler, PolynomialFeatures, OneHotEncoder\n",
    "from sklearn.pipeline import Pipeline\n",
    "from sklearn.ensemble import StackingRegressor\n",
    "from sklearn.linear_model import LinearRegression, Ridge, Lasso, HuberRegressor, ElasticNet, RANSACRegressor\n",
    "from sklearn.model_selection import train_test_split\n",
    "from sklearn.metrics import mean_absolute_error\n",
    "from sklearn.compose import ColumnTransformer\n",
    "from sklearn.impute import SimpleImputer\n",
    "from sklearn.pipeline import Pipeline\n",
    "\n",
    "# Load data\n",
    "df = pd.read_csv('train.csv')\n",
    "df_test = pd.read_csv('test.csv')\n",
    "\n",
    "df = df[df['Sex'] != 'Diameter']\n",
    "# Define preprocessing pipeline\n",
    "preprocessor = ColumnTransformer(\n",
    "    transformers=[\n",
    "        ('num', StandardScaler(), ['Length', 'Diameter', 'Height', 'Weight', 'Shucked Weight', 'Viscera Weight', 'Shell Weight']),\n",
    "        ('cat', OneHotEncoder(), ['Sex'])\n",
    "    ]\n",
    ")\n",
    "\n",
    "# Define the pipelines with StandardScaler added\n",
    "linear_pipeline = Pipeline([\n",
    "    ('preprocessor', preprocessor),\n",
    "    ('poly', PolynomialFeatures(degree=2)),\n",
    "    ('linear', LinearRegression())\n",
    "])\n",
    "\n",
    "ridge_pipeline = Pipeline([\n",
    "    ('preprocessor', preprocessor),\n",
    "    ('poly', PolynomialFeatures(degree=2)),\n",
    "    ('ridge', Ridge(alpha=1.0))\n",
    "])\n",
    "\n",
    "lasso_pipeline = Pipeline([\n",
    "    ('preprocessor', preprocessor),\n",
    "    ('poly', PolynomialFeatures(degree=2)),\n",
    "    ('lasso', Lasso())\n",
    "])\n",
    "\n",
    "huber_pipeline = Pipeline([\n",
    "    ('preprocessor', preprocessor),\n",
    "    ('poly', PolynomialFeatures(degree=2)),\n",
    "    ('huber', HuberRegressor())\n",
    "])\n",
    "\n",
    "ransac_pipeline = Pipeline([\n",
    "    ('preprocessor', preprocessor),\n",
    "    ('poly', PolynomialFeatures(degree=2)),\n",
    "    ('ransac', RANSACRegressor())\n",
    "])\n",
    "\n",
    "elastic_pipeline = Pipeline([\n",
    "    ('preprocessor', preprocessor),\n",
    "    ('poly', PolynomialFeatures(degree=2)),\n",
    "    ('elastic_net', ElasticNet())\n",
    "])\n",
    "\n",
    "# Split the data\n",
    "X = df.drop(columns=['Age'])  # Assuming 'Age' is the target variable\n",
    "y = df['Age']\n",
    "\n",
    "X_train, X_test, y_train, y_test = train_test_split(X, y, test_size=0.2, random_state=42)\n",
    "\n",
    "# Stacking Regressor\n",
    "stacking_regressor = StackingRegressor(\n",
    "    estimators=[\n",
    "        ('linear', linear_pipeline),\n",
    "        ('lasso', lasso_pipeline),\n",
    "        ('huber', huber_pipeline),\n",
    "        ('ridge', ridge_pipeline),\n",
    "        ('elastic_net', elastic_pipeline)\n",
    "    ],\n",
    "    final_estimator=HuberRegressor(),\n",
    "    cv=10\n",
    ")\n",
    "\n",
    "# Fit the stacking model\n",
    "stacking_regressor.fit(X_train, y_train)\n",
    "\n",
    "# Predict\n",
    "y_pred_test = stacking_regressor.predict(X_test).round()\n",
    "\n",
    "# Evaluate\n",
    "mae = mean_absolute_error(y_test, y_pred_test)\n",
    "print(f'Mean Absolute Error: {mae}')\n",
    "\n",
    "# Predict on new test data\n",
    "y_pred_final = stacking_regressor.predict(df_test).round()"
   ]
  },
  {
   "cell_type": "code",
   "execution_count": 19,
   "metadata": {},
   "outputs": [
    {
     "data": {
      "text/html": [
       "<div>\n",
       "<style scoped>\n",
       "    .dataframe tbody tr th:only-of-type {\n",
       "        vertical-align: middle;\n",
       "    }\n",
       "\n",
       "    .dataframe tbody tr th {\n",
       "        vertical-align: top;\n",
       "    }\n",
       "\n",
       "    .dataframe thead th {\n",
       "        text-align: right;\n",
       "    }\n",
       "</style>\n",
       "<table border=\"1\" class=\"dataframe\">\n",
       "  <thead>\n",
       "    <tr style=\"text-align: right;\">\n",
       "      <th></th>\n",
       "      <th>Unnamed: 0</th>\n",
       "      <th>id</th>\n",
       "      <th>Age</th>\n",
       "    </tr>\n",
       "  </thead>\n",
       "  <tbody>\n",
       "    <tr>\n",
       "      <th>0</th>\n",
       "      <td>0</td>\n",
       "      <td>15000</td>\n",
       "      <td>6.0</td>\n",
       "    </tr>\n",
       "    <tr>\n",
       "      <th>1</th>\n",
       "      <td>1</td>\n",
       "      <td>15001</td>\n",
       "      <td>9.0</td>\n",
       "    </tr>\n",
       "    <tr>\n",
       "      <th>2</th>\n",
       "      <td>2</td>\n",
       "      <td>15002</td>\n",
       "      <td>5.0</td>\n",
       "    </tr>\n",
       "    <tr>\n",
       "      <th>3</th>\n",
       "      <td>3</td>\n",
       "      <td>15003</td>\n",
       "      <td>8.0</td>\n",
       "    </tr>\n",
       "    <tr>\n",
       "      <th>4</th>\n",
       "      <td>4</td>\n",
       "      <td>15004</td>\n",
       "      <td>6.0</td>\n",
       "    </tr>\n",
       "  </tbody>\n",
       "</table>\n",
       "</div>"
      ],
      "text/plain": [
       "   Unnamed: 0     id  Age\n",
       "0           0  15000  6.0\n",
       "1           1  15001  9.0\n",
       "2           2  15002  5.0\n",
       "3           3  15003  8.0\n",
       "4           4  15004  6.0"
      ]
     },
     "execution_count": 19,
     "metadata": {},
     "output_type": "execute_result"
    }
   ],
   "source": [
    "subm = pd.read_csv('sample_submission.csv')\n",
    "\n",
    "subm['Age'] = y_pred_final\n",
    "\n",
    "subm\n",
    "\n",
    "subm.to_csv('EAB_submit.csv')\n",
    "\n",
    "df1 = pd.read_csv('EAB_submit.csv')\n",
    "df1.head()"
   ]
  },
  {
   "cell_type": "code",
   "execution_count": 20,
   "metadata": {},
   "outputs": [],
   "source": [
    "df1 = df1.drop(columns=['Unnamed: 0'])\n",
    "df1.to_csv('EAB_submission.csv', index=False)"
   ]
  },
  {
   "cell_type": "code",
   "execution_count": 21,
   "metadata": {},
   "outputs": [
    {
     "data": {
      "text/html": [
       "<div>\n",
       "<style scoped>\n",
       "    .dataframe tbody tr th:only-of-type {\n",
       "        vertical-align: middle;\n",
       "    }\n",
       "\n",
       "    .dataframe tbody tr th {\n",
       "        vertical-align: top;\n",
       "    }\n",
       "\n",
       "    .dataframe thead th {\n",
       "        text-align: right;\n",
       "    }\n",
       "</style>\n",
       "<table border=\"1\" class=\"dataframe\">\n",
       "  <thead>\n",
       "    <tr style=\"text-align: right;\">\n",
       "      <th></th>\n",
       "      <th>id</th>\n",
       "      <th>Age</th>\n",
       "    </tr>\n",
       "  </thead>\n",
       "  <tbody>\n",
       "    <tr>\n",
       "      <th>0</th>\n",
       "      <td>15000</td>\n",
       "      <td>6.0</td>\n",
       "    </tr>\n",
       "    <tr>\n",
       "      <th>1</th>\n",
       "      <td>15001</td>\n",
       "      <td>9.0</td>\n",
       "    </tr>\n",
       "    <tr>\n",
       "      <th>2</th>\n",
       "      <td>15002</td>\n",
       "      <td>5.0</td>\n",
       "    </tr>\n",
       "    <tr>\n",
       "      <th>3</th>\n",
       "      <td>15003</td>\n",
       "      <td>8.0</td>\n",
       "    </tr>\n",
       "    <tr>\n",
       "      <th>4</th>\n",
       "      <td>15004</td>\n",
       "      <td>6.0</td>\n",
       "    </tr>\n",
       "    <tr>\n",
       "      <th>...</th>\n",
       "      <td>...</td>\n",
       "      <td>...</td>\n",
       "    </tr>\n",
       "    <tr>\n",
       "      <th>9995</th>\n",
       "      <td>24995</td>\n",
       "      <td>9.0</td>\n",
       "    </tr>\n",
       "    <tr>\n",
       "      <th>9996</th>\n",
       "      <td>24996</td>\n",
       "      <td>8.0</td>\n",
       "    </tr>\n",
       "    <tr>\n",
       "      <th>9997</th>\n",
       "      <td>24997</td>\n",
       "      <td>10.0</td>\n",
       "    </tr>\n",
       "    <tr>\n",
       "      <th>9998</th>\n",
       "      <td>24998</td>\n",
       "      <td>9.0</td>\n",
       "    </tr>\n",
       "    <tr>\n",
       "      <th>9999</th>\n",
       "      <td>24999</td>\n",
       "      <td>8.0</td>\n",
       "    </tr>\n",
       "  </tbody>\n",
       "</table>\n",
       "<p>10000 rows × 2 columns</p>\n",
       "</div>"
      ],
      "text/plain": [
       "         id   Age\n",
       "0     15000   6.0\n",
       "1     15001   9.0\n",
       "2     15002   5.0\n",
       "3     15003   8.0\n",
       "4     15004   6.0\n",
       "...     ...   ...\n",
       "9995  24995   9.0\n",
       "9996  24996   8.0\n",
       "9997  24997  10.0\n",
       "9998  24998   9.0\n",
       "9999  24999   8.0\n",
       "\n",
       "[10000 rows x 2 columns]"
      ]
     },
     "execution_count": 21,
     "metadata": {},
     "output_type": "execute_result"
    }
   ],
   "source": [
    "df1"
   ]
  }
 ],
 "metadata": {
  "kernelspec": {
   "display_name": "Python 3",
   "language": "python",
   "name": "python3"
  },
  "language_info": {
   "codemirror_mode": {
    "name": "ipython",
    "version": 3
   },
   "file_extension": ".py",
   "mimetype": "text/x-python",
   "name": "python",
   "nbconvert_exporter": "python",
   "pygments_lexer": "ipython3",
   "version": "3.12.2"
  }
 },
 "nbformat": 4,
 "nbformat_minor": 2
}
